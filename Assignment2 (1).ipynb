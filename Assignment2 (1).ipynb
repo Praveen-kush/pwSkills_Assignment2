{
 "cells": [
  {
   "cell_type": "markdown",
   "id": "1e94359e",
   "metadata": {},
   "source": [
    "Q1. How do you comment code in Python? What are the different types of comments"
   ]
  },
  {
   "cell_type": "markdown",
   "id": "babbe661",
   "metadata": {},
   "source": [
    "Answer"
   ]
  },
  {
   "cell_type": "markdown",
   "id": "205d910d",
   "metadata": {},
   "source": [
    "Comments are lines in the code that are ignored by the Python interpreter and are meant for human readability. There are two main ways to write comments in Python:\n",
    "\n",
    "1. Single-line comments: These are comments that span only one line and start with the hash (#) symbol. Anything after the hash symbol on the same line will be considered a comment and will not be executed by Python."
   ]
  },
  {
   "cell_type": "code",
   "execution_count": 4,
   "id": "65bc2187",
   "metadata": {},
   "outputs": [
    {
     "name": "stdout",
     "output_type": "stream",
     "text": [
      "Hello, World!\n"
     ]
    }
   ],
   "source": [
    "# This is a single-line comment in Python\n",
    "print(\"Hello, World!\")  # This line prints a greeting\n"
   ]
  },
  {
   "cell_type": "markdown",
   "id": "34cf6262",
   "metadata": {},
   "source": [
    "2. Multi-line comments: While Python does not have a dedicated syntax for multi-line comments like some other programming languages, you can achieve multi-line comments by enclosing the text within triple quotes (either single or double). These triple quotes are typically used for docstrings, which are special comments used for documentation, but they can also serve as multi-line comments."
   ]
  },
  {
   "cell_type": "code",
   "execution_count": 3,
   "id": "811fe142",
   "metadata": {},
   "outputs": [
    {
     "name": "stdout",
     "output_type": "stream",
     "text": [
      "Hello, World!\n"
     ]
    }
   ],
   "source": [
    "\"\"\"\n",
    "This is a multi-line comment in Python.\n",
    "It spans multiple lines without being executed.\n",
    "You can use triple single quotes or triple double quotes for this.\n",
    "\"\"\"\n",
    "print(\"Hello, World!\")\n"
   ]
  },
  {
   "cell_type": "markdown",
   "id": "5f556fb1",
   "metadata": {},
   "source": [
    "Q2. What are variables in Python? How do you declare and assign values to variables?"
   ]
  },
  {
   "cell_type": "markdown",
   "id": "e6828fba",
   "metadata": {},
   "source": [
    "Answer"
   ]
  },
  {
   "cell_type": "markdown",
   "id": "700d7b34",
   "metadata": {},
   "source": [
    "In Python, variables are used to store data values. A variable is like a container that holds a value, and the value can be of different types such as numbers, strings, lists, or any other data type.\n",
    "To declare and assign values to variables in Python.\n",
    "Syntax:"
   ]
  },
  {
   "cell_type": "markdown",
   "id": "b4a6c037",
   "metadata": {},
   "source": [
    "variable_name = value"
   ]
  },
  {
   "cell_type": "markdown",
   "id": "cfec3545",
   "metadata": {},
   "source": [
    "1. Variable Declaration: When you declare a variable, you are essentially creating it and giving it a name. The name of the variable should follow the rules of Python's identifier naming conventions. It should start with a letter (a-z, A-Z) or an underscore (_) and can be followed by letters, digits (0-9), or underscores. Variable names are case-sensitive, meaning my_var and My_Var would be treated as two different variables.\n",
    "\n",
    "2. Assignment Operator: The assignment operator (=) is used to assign a value to the variable. The value can be a literal (e.g., numbers or strings) or the result of an expression.\n",
    "\n"
   ]
  },
  {
   "cell_type": "markdown",
   "id": "a2c738a3",
   "metadata": {},
   "source": [
    "For Example:"
   ]
  },
  {
   "cell_type": "code",
   "execution_count": 6,
   "id": "9dbbdac9",
   "metadata": {},
   "outputs": [],
   "source": [
    "# Integer variable\n",
    "age = 25\n",
    "\n",
    "# String variable\n",
    "name = \"John Doe\"\n",
    "\n",
    "# Float variable\n",
    "pi = 3.14\n",
    "\n",
    "# Boolean variable\n",
    "is_student = True\n",
    "\n",
    "# List variable\n",
    "numbers = [1, 2, 3, 4, 5]\n",
    "\n",
    "# Dictionary variable\n",
    "person = {'name': 'Alice', 'age': 30}\n",
    "\n",
    "# Expression assignment\n",
    "result = 2 * (3 + 5)\n"
   ]
  },
  {
   "cell_type": "markdown",
   "id": "d482cede",
   "metadata": {},
   "source": [
    "* Declared and assigned a value to a variable:"
   ]
  },
  {
   "cell_type": "markdown",
   "id": "0d1738b2",
   "metadata": {},
   "source": [
    "For Example"
   ]
  },
  {
   "cell_type": "code",
   "execution_count": 8,
   "id": "d58f1a07",
   "metadata": {},
   "outputs": [
    {
     "name": "stdout",
     "output_type": "stream",
     "text": [
      "15\n"
     ]
    }
   ],
   "source": [
    "x = 10\n",
    "y = 5\n",
    "sum_result = x + y\n",
    "\n",
    "print(sum_result) "
   ]
  },
  {
   "cell_type": "markdown",
   "id": "2c64271a",
   "metadata": {},
   "source": [
    "Q3. How do you convert one data type to another in Python?"
   ]
  },
  {
   "cell_type": "markdown",
   "id": "be6a68aa",
   "metadata": {},
   "source": [
    "Answer"
   ]
  },
  {
   "cell_type": "markdown",
   "id": "7ce740e5",
   "metadata": {},
   "source": [
    " In Python convert one data type to another using type conversion functions or constructors. Python provides built-in functions and constructors to facilitate data type conversions.\n",
    "Some common ways to convert one data type to another:"
   ]
  },
  {
   "cell_type": "markdown",
   "id": "d12a58cf",
   "metadata": {},
   "source": [
    "1. Integer to Other Types: You can convert an integer to other data types like float, string, or boolean using the following methods:"
   ]
  },
  {
   "cell_type": "code",
   "execution_count": 13,
   "id": "c08a7c01",
   "metadata": {},
   "outputs": [],
   "source": [
    "# Integer to float\n",
    "integer_value = 42\n",
    "float_value = float(integer_value)\n",
    "\n",
    "# Integer to string\n",
    "integer_value = 42\n",
    "string_value = str(integer_value)\n",
    "\n",
    "# Integer to boolean\n",
    "integer_value = 1\n",
    "bool_value = bool(integer_value)"
   ]
  },
  {
   "cell_type": "markdown",
   "id": "9086438a",
   "metadata": {},
   "source": [
    "2. String to Other Types: You can convert a string to integer, float, or boolean using the following methods:"
   ]
  },
  {
   "cell_type": "code",
   "execution_count": 14,
   "id": "5e7caf5f",
   "metadata": {},
   "outputs": [],
   "source": [
    "# String to integer\n",
    "string_value = \"42\"\n",
    "integer_value = int(string_value)\n",
    "\n",
    "# String to float\n",
    "string_value = \"3.14\"\n",
    "float_value = float(string_value)\n",
    "\n",
    "# String to boolean\n",
    "string_value = \"True\"\n",
    "bool_value = bool(string_value)\n"
   ]
  },
  {
   "cell_type": "markdown",
   "id": "6fc77c1f",
   "metadata": {},
   "source": [
    "3. Boolean to Other Types: You can convert a boolean to integer, float, or string using the following methods:"
   ]
  },
  {
   "cell_type": "code",
   "execution_count": 17,
   "id": "d3ea83d7",
   "metadata": {},
   "outputs": [],
   "source": [
    "# Boolean to integer\n",
    "bool_value = True\n",
    "integer_value = int(bool_value)  # True will be converted to 1, and False to 0\n",
    "\n",
    "# Boolean to float\n",
    "bool_value = True\n",
    "float_value = float(bool_value)  # True will be converted to 1.0, and False to 0.0\n",
    "\n",
    "# Boolean to string\n",
    "bool_value = True\n",
    "string_value = str(bool_value)  # True will be converted to \"True\", and False to \"False\"\n"
   ]
  },
  {
   "cell_type": "markdown",
   "id": "0519f6a3",
   "metadata": {},
   "source": [
    "4. List, Tuple, or Dictionary to String: You can convert lists, tuples, or dictionaries to strings using str():"
   ]
  },
  {
   "cell_type": "code",
   "execution_count": 18,
   "id": "7bc5dcee",
   "metadata": {},
   "outputs": [],
   "source": [
    "my_list = [1, 2, 3]\n",
    "list_str = str(my_list)  # Converts the list to a string representation\n",
    "\n",
    "my_tuple = (4, 5, 6)\n",
    "tuple_str = str(my_tuple)  # Converts the tuple to a string representation\n",
    "\n",
    "my_dict = {'name': 'John', 'age': 30}\n",
    "dict_str = str(my_dict)  # Converts the dictionary to a string representation\n"
   ]
  },
  {
   "cell_type": "markdown",
   "id": "a2c36c3f",
   "metadata": {},
   "source": [
    "Q4. How do you write and execute a Python script from the command line?"
   ]
  },
  {
   "cell_type": "markdown",
   "id": "0e68a625",
   "metadata": {},
   "source": [
    "Answer"
   ]
  },
  {
   "cell_type": "markdown",
   "id": "05f29fb8",
   "metadata": {},
   "source": [
    "To write and execute a Python script from the command line, and  follow these steps:"
   ]
  },
  {
   "cell_type": "markdown",
   "id": "63b3204a",
   "metadata": {},
   "source": [
    "Step 1: Open a text editor (e.g., Notepad, Visual Studio Code, Sublime Text) and create a new file. Save the file with a \".py\" extension, which indicates that it's a Python script. For example, you can save the file as \"myscript.py\".\n",
    "\n",
    "Step 2: Write a Python code inside the script file. For example, And the following simple Python code:"
   ]
  },
  {
   "cell_type": "code",
   "execution_count": 19,
   "id": "a869b8a4",
   "metadata": {},
   "outputs": [
    {
     "name": "stdout",
     "output_type": "stream",
     "text": [
      "Hello, World!\n"
     ]
    }
   ],
   "source": [
    "# myscript.py\n",
    "print(\"Hello, World!\")\n"
   ]
  },
  {
   "cell_type": "markdown",
   "id": "51c4ee4a",
   "metadata": {},
   "source": [
    "Step 3: Save the changes to script file.\n",
    "\n",
    "Step 4: Open the command line (also known as the terminal or command prompt) on your operating system.\n",
    "\n",
    "Step 5: Navigate to the directory where your Python script is located. You can use the \"cd\" (change directory) command on Windows, macOS, or Linux."
   ]
  },
  {
   "cell_type": "code",
   "execution_count": null,
   "id": "fac0e693",
   "metadata": {},
   "outputs": [],
   "source": [
    "# Example on Windows\n",
    "cd C:\\path\\to\\your\\directory\n",
    "\n",
    "# Example on macOS or Linux\n",
    "cd /path/to/your/directory\n"
   ]
  },
  {
   "cell_type": "markdown",
   "id": "c7f6daa7",
   "metadata": {},
   "source": [
    "Step 6: Once you are in the correct directory, you can run the Python script using the \"python\" command followed by the name of your script file:"
   ]
  },
  {
   "cell_type": "markdown",
   "id": "0d5299b9",
   "metadata": {},
   "source": [
    "python myscript.py"
   ]
  },
  {
   "cell_type": "markdown",
   "id": "87a3e6cb",
   "metadata": {},
   "source": [
    "Step 7: Press \"Enter,\" and the Python script will be executed. In this example, you will see the output \"Hello, World!\" printed on the command line."
   ]
  },
  {
   "cell_type": "markdown",
   "id": "bc04f50d",
   "metadata": {},
   "source": [
    "Q5. Given a list my_list = [1, 2, 3, 4, 5], write the code to slice the list and obtain the sub-list [2, 3]."
   ]
  },
  {
   "cell_type": "markdown",
   "id": "a2cb8782",
   "metadata": {},
   "source": [
    "Answer"
   ]
  },
  {
   "cell_type": "markdown",
   "id": "bb55f2b0",
   "metadata": {},
   "source": [
    "To obtain the sub-list [2, 3] from the given list my_list = [1, 2, 3, 4, 5], w can use slicing in Python. Slicing allows to extract a portion of a list based on the index range specify. The general syntax for slicing a list is:"
   ]
  },
  {
   "cell_type": "markdown",
   "id": "cf8f93b7",
   "metadata": {},
   "source": [
    "new_list = my_list[start_index:end_index]\n"
   ]
  },
  {
   "cell_type": "markdown",
   "id": "031ac88d",
   "metadata": {},
   "source": [
    "where start_index is the index of the first element you want to include in the new list, and end_index is the index of the first element you want to exclude from the new list."
   ]
  },
  {
   "cell_type": "code",
   "execution_count": 23,
   "id": "07c0e24f",
   "metadata": {},
   "outputs": [
    {
     "name": "stdout",
     "output_type": "stream",
     "text": [
      "[2, 3]\n"
     ]
    }
   ],
   "source": [
    "my_list = [1, 2, 3, 4, 5]\n",
    "\n",
    "# Slice the list from index 1 (inclusive) to index 3 (exclusive)\n",
    "sub_list = my_list[1:3]\n",
    "\n",
    "print(sub_list) \n"
   ]
  },
  {
   "cell_type": "markdown",
   "id": "fb465041",
   "metadata": {},
   "source": [
    "Q6. What is a complex number in mathematics, and how is it represented in Python?"
   ]
  },
  {
   "cell_type": "markdown",
   "id": "dd08c1e8",
   "metadata": {},
   "source": [
    "Answer"
   ]
  },
  {
   "cell_type": "markdown",
   "id": "583f12e4",
   "metadata": {},
   "source": [
    "In mathematics, a complex number is a number of the form \"a + bi,\" where \"a\" and \"b\" are real numbers, and \"i\" is the imaginary unit. The imaginary unit \"i\" is defined as the square root of -1, and it is a fundamental concept in complex number arithmetic. Complex numbers extend the set of real numbers to include values that cannot be represented on the real number line.\n",
    "\n",
    "In the complex number \"a + bi,\" the real part \"a\" represents the horizontal axis (real axis), and the imaginary part \"b\" represents the vertical axis (imaginary axis) in the complex plane.\n",
    "\n",
    "In Python, complex numbers are represented using the \"complex\" data type. The syntax to create a complex number is as follows:"
   ]
  },
  {
   "cell_type": "markdown",
   "id": "bed1dfcf",
   "metadata": {},
   "source": [
    "z = complex(a, b)"
   ]
  },
  {
   "cell_type": "markdown",
   "id": "35226954",
   "metadata": {},
   "source": [
    "where \"a\" represents the real part and \"b\" represents the imaginary part. Both \"a\" and \"b\" are real numbers, and you can use integers, floating-point numbers, or even variables that hold real numbers."
   ]
  },
  {
   "cell_type": "markdown",
   "id": "4fbbdf9d",
   "metadata": {},
   "source": [
    "Examples of creating complex numbers in Python:"
   ]
  },
  {
   "cell_type": "code",
   "execution_count": 25,
   "id": "a04b4ad7",
   "metadata": {},
   "outputs": [
    {
     "name": "stdout",
     "output_type": "stream",
     "text": [
      "(2+3j)\n",
      "(-1.5+2.7j)\n",
      "-4j\n",
      "(5+0j)\n"
     ]
    }
   ],
   "source": [
    "# Complex number with real part 2 and imaginary part 3\n",
    "z1 = complex(2, 3)\n",
    "print(z1)  \n",
    "\n",
    "# Complex number with real part -1.5 and imaginary part 2.7\n",
    "z2 = complex(-1.5, 2.7)\n",
    "print(z2)  \n",
    "\n",
    "# Complex number with real part 0 and imaginary part -4\n",
    "z3 = complex(0, -4)\n",
    "print(z3)  \n",
    "\n",
    "# Complex number with real part 5 and imaginary part 0 (Equivalent to an ordinary real number 5)\n",
    "z4 = complex(5, 0)\n",
    "print(z4) \n"
   ]
  },
  {
   "cell_type": "markdown",
   "id": "d7e2670b",
   "metadata": {},
   "source": [
    "Q7. What is the correct way to declare a variable named age and assign the value 25 to it?"
   ]
  },
  {
   "cell_type": "markdown",
   "id": "44ae716e",
   "metadata": {},
   "source": [
    "Answer"
   ]
  },
  {
   "cell_type": "markdown",
   "id": "49be580c",
   "metadata": {},
   "source": [
    "The correct way to declare a variable named age and assign the value 25 to it in Python is as follows:"
   ]
  },
  {
   "cell_type": "code",
   "execution_count": 27,
   "id": "c2d11520",
   "metadata": {},
   "outputs": [],
   "source": [
    "age = 25"
   ]
  },
  {
   "cell_type": "markdown",
   "id": "7e1dd468",
   "metadata": {},
   "source": [
    "In this statement, the variable age is declared and assigned the value 25. Python is a dynamically typed language, which means you do not need to specify the data type of the variable explicitly. The interpreter will automatically determine the data type based on the assigned value.\n",
    "\n",
    "After executing this statement, the variable age will hold the value 25, and you can use it throughout your code by referring to its name.\n",
    "\n",
    " Examples of using the age variable:"
   ]
  },
  {
   "cell_type": "code",
   "execution_count": 28,
   "id": "1fbdd691",
   "metadata": {},
   "outputs": [
    {
     "name": "stdout",
     "output_type": "stream",
     "text": [
      "25\n",
      "50\n",
      "30\n"
     ]
    }
   ],
   "source": [
    "age = 25\n",
    "print(age)\n",
    "double_age = age * 2\n",
    "print(double_age)\n",
    "age = 30\n",
    "print(age) \n"
   ]
  },
  {
   "cell_type": "markdown",
   "id": "79b0882d",
   "metadata": {},
   "source": [
    "Q8. Declare a variable named price and assign the value 9.99 to it. What data type does this variable \n",
    "belong to?"
   ]
  },
  {
   "cell_type": "markdown",
   "id": "caa9e33f",
   "metadata": {},
   "source": [
    "Answer"
   ]
  },
  {
   "cell_type": "markdown",
   "id": "a7c86a56",
   "metadata": {},
   "source": [
    "To declare a variable named price and assign the value 9.99 to it in Python, the following code:\n",
    "\n"
   ]
  },
  {
   "cell_type": "code",
   "execution_count": 31,
   "id": "9e3d770e",
   "metadata": {},
   "outputs": [],
   "source": [
    "price = 9.99"
   ]
  },
  {
   "cell_type": "markdown",
   "id": "1e4a1fef",
   "metadata": {},
   "source": [
    "In this statement, the variable price is declared and assigned the value 9.99. Python will automatically determine the data type of the variable based on the assigned value. In this case, the value 9.99 is a decimal number, which is represented by the data type \"float.\"\n",
    "\n",
    "Therefore, the variable price belongs to the data type \"float.\" Floats are used to represent decimal numbers in Python and can include a fractional part. Python's dynamic typing allows variables to change data types based on the values assigned to them, so if you later assign an integer or another data type to the price variable, it will be reinterpreted accordingly."
   ]
  },
  {
   "cell_type": "markdown",
   "id": "21b92352",
   "metadata": {},
   "source": [
    "Q9. Create a variable named name and assign your full name to it as a string. How would you print the \n",
    "value of this variable?"
   ]
  },
  {
   "cell_type": "markdown",
   "id": "a68369f2",
   "metadata": {},
   "source": [
    "Answer"
   ]
  },
  {
   "cell_type": "markdown",
   "id": "4fc31a4e",
   "metadata": {},
   "source": [
    "To create a variable named name and assign your full name to it as a string in Python."
   ]
  },
  {
   "cell_type": "markdown",
   "id": "4f7e34fc",
   "metadata": {},
   "source": [
    "The following  code:"
   ]
  },
  {
   "cell_type": "code",
   "execution_count": 33,
   "id": "52986305",
   "metadata": {},
   "outputs": [],
   "source": [
    "name = \"Praveen Maurya\""
   ]
  },
  {
   "cell_type": "markdown",
   "id": "02c7d4f3",
   "metadata": {},
   "source": [
    "In this example, I've assigned the string \"Praveen Maurya\" to the variable name. You can replace \"Praveen Maurya\" with your actual full name.\n",
    "\n",
    "To print the value of the name variable, you can use the print() function in Python. Here's how you can do it:"
   ]
  },
  {
   "cell_type": "code",
   "execution_count": 34,
   "id": "10df9a08",
   "metadata": {},
   "outputs": [
    {
     "name": "stdout",
     "output_type": "stream",
     "text": [
      "Praveen Maurya\n"
     ]
    }
   ],
   "source": [
    "name = \"Praveen Maurya\"\n",
    "print(name)"
   ]
  },
  {
   "cell_type": "markdown",
   "id": "a71a3746",
   "metadata": {},
   "source": [
    "The print() function is used to display the output of the variable name on the screen. It works for strings as well as other data types, so you can use it to print the values of variables, constants, or any other expressions you want to display during the execution in Python code."
   ]
  },
  {
   "cell_type": "markdown",
   "id": "1742256a",
   "metadata": {},
   "source": [
    "Q10. Given the string \"Hello, World!\", extract the substring \"World\"."
   ]
  },
  {
   "cell_type": "markdown",
   "id": "d834e7bb",
   "metadata": {},
   "source": [
    "Answer"
   ]
  },
  {
   "cell_type": "markdown",
   "id": "39dbdd08",
   "metadata": {},
   "source": [
    "To extract the substring \"World\" from the given string \"Hello, World!\",we can use string slicing in Python. String slicing allows to extract a portion of a string based on the index range specify."
   ]
  },
  {
   "cell_type": "markdown",
   "id": "1e7eed89",
   "metadata": {},
   "source": [
    " Extract the desired substring:"
   ]
  },
  {
   "cell_type": "code",
   "execution_count": 36,
   "id": "90d1264f",
   "metadata": {},
   "outputs": [
    {
     "name": "stdout",
     "output_type": "stream",
     "text": [
      "World\n"
     ]
    }
   ],
   "source": [
    "# Given string\n",
    "s = \"Hello, World!\"\n",
    "# Extracting the substring \"World\"\n",
    "substring = s[7:12]\n",
    "print(substring) "
   ]
  },
  {
   "cell_type": "markdown",
   "id": "941cf2e9",
   "metadata": {},
   "source": [
    "Q11. Create a variable named \"is_student\" and assign it a boolean value indicating whether you are \n",
    "currently a student or not."
   ]
  },
  {
   "cell_type": "markdown",
   "id": "66bcca48",
   "metadata": {},
   "source": [
    "Answer"
   ]
  },
  {
   "cell_type": "markdown",
   "id": "2f767918",
   "metadata": {},
   "source": [
    "To create a variable named is_student and assign it a boolean value indicating whether you are currently a student or not, we can use the following code:"
   ]
  },
  {
   "cell_type": "code",
   "execution_count": 37,
   "id": "1c8d3f58",
   "metadata": {},
   "outputs": [],
   "source": [
    "is_student = True"
   ]
  },
  {
   "cell_type": "markdown",
   "id": "3abebd5f",
   "metadata": {},
   "source": [
    "In this example, I've assigned the boolean value True to the variable is_student, assuming that you are currently a student. If you are not a student, you can change the value to False:"
   ]
  },
  {
   "cell_type": "code",
   "execution_count": 38,
   "id": "c9046d41",
   "metadata": {},
   "outputs": [],
   "source": [
    "is_student = False"
   ]
  },
  {
   "cell_type": "markdown",
   "id": "b871c230",
   "metadata": {},
   "source": [
    "In Python, True and False are the two boolean values representing true and false, respectively. Booleans are used for logical operations, comparisons, and conditional expressions in Python.\n",
    "\n",
    "You can adjust the value of the is_student variable based on your current status, and then use this variable in your code for decision-making or to perform specific actions depending on whether you are a student or not."
   ]
  }
 ],
 "metadata": {
  "kernelspec": {
   "display_name": "Python 3 (ipykernel)",
   "language": "python",
   "name": "python3"
  },
  "language_info": {
   "codemirror_mode": {
    "name": "ipython",
    "version": 3
   },
   "file_extension": ".py",
   "mimetype": "text/x-python",
   "name": "python",
   "nbconvert_exporter": "python",
   "pygments_lexer": "ipython3",
   "version": "3.9.13"
  }
 },
 "nbformat": 4,
 "nbformat_minor": 5
}
